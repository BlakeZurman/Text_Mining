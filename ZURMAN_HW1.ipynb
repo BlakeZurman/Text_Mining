{
 "cells": [
  {
   "attachments": {},
   "cell_type": "markdown",
   "id": "5ac687f9-3cbe-4429-978b-a5d507c2e87b",
   "metadata": {},
   "source": [
    "# Homework 1\n",
    "By Blake Zurman\n",
    "### Public Sentiment Towards AI\n",
    "Assume that you are a consultant at a public relations firm, and a client of your firm would like you to evaluate the current public sentiment toward AI in social media like Facebook and Twitter."
   ]
  },
  {
   "cell_type": "code",
   "execution_count": 60,
   "id": "d60772da-c2d0-46fb-87a4-9f0156fdec37",
   "metadata": {},
   "outputs": [
    {
     "name": "stdout",
     "output_type": "stream",
     "text": [
      "Requirement already satisfied: nltk in /opt/anaconda3/lib/python3.12/site-packages (3.8.1)\n",
      "Requirement already satisfied: vaderSentiment in /opt/anaconda3/lib/python3.12/site-packages (3.3.2)\n",
      "Requirement already satisfied: textblob in /opt/anaconda3/lib/python3.12/site-packages (0.18.0.post0)\n",
      "Requirement already satisfied: click in /opt/anaconda3/lib/python3.12/site-packages (from nltk) (8.1.7)\n",
      "Requirement already satisfied: joblib in /opt/anaconda3/lib/python3.12/site-packages (from nltk) (1.4.2)\n",
      "Requirement already satisfied: regex>=2021.8.3 in /opt/anaconda3/lib/python3.12/site-packages (from nltk) (2023.10.3)\n",
      "Requirement already satisfied: tqdm in /opt/anaconda3/lib/python3.12/site-packages (from nltk) (4.66.4)\n",
      "Requirement already satisfied: requests in /opt/anaconda3/lib/python3.12/site-packages (from vaderSentiment) (2.32.2)\n",
      "Requirement already satisfied: charset-normalizer<4,>=2 in /opt/anaconda3/lib/python3.12/site-packages (from requests->vaderSentiment) (2.0.4)\n",
      "Requirement already satisfied: idna<4,>=2.5 in /opt/anaconda3/lib/python3.12/site-packages (from requests->vaderSentiment) (3.7)\n",
      "Requirement already satisfied: urllib3<3,>=1.21.1 in /opt/anaconda3/lib/python3.12/site-packages (from requests->vaderSentiment) (1.26.20)\n",
      "Requirement already satisfied: certifi>=2017.4.17 in /opt/anaconda3/lib/python3.12/site-packages (from requests->vaderSentiment) (2024.8.30)\n",
      "Note: you may need to restart the kernel to use updated packages.\n"
     ]
    }
   ],
   "source": [
    "pip install nltk vaderSentiment textblob"
   ]
  },
  {
   "cell_type": "code",
   "execution_count": 6,
   "id": "cab3fa9c-083b-49b6-85d5-92cea6574de1",
   "metadata": {},
   "outputs": [
    {
     "name": "stderr",
     "output_type": "stream",
     "text": [
      "[nltk_data] Downloading package punkt to\n",
      "[nltk_data]     /Users/blakezurman/nltk_data...\n",
      "[nltk_data]   Package punkt is already up-to-date!\n"
     ]
    },
    {
     "data": {
      "text/plain": [
       "True"
      ]
     },
     "execution_count": 6,
     "metadata": {},
     "output_type": "execute_result"
    }
   ],
   "source": [
    "import nltk\n",
    "from nltk.tokenize import sent_tokenize\n",
    "from vaderSentiment.vaderSentiment import SentimentIntensityAnalyzer\n",
    "from textblob import TextBlob\n",
    "\n",
    "nltk.download('punkt')"
   ]
  },
  {
   "cell_type": "markdown",
   "id": "f8a7d6a9-a27c-4f6b-a1d6-76023413311c",
   "metadata": {},
   "source": [
    "### Define **Tokenizing** Function"
   ]
  },
  {
   "cell_type": "code",
   "execution_count": 24,
   "id": "528753aa-dc0a-4915-b500-faf4e23b4c02",
   "metadata": {},
   "outputs": [],
   "source": [
    "def vader_sentiment(text):\n",
    "    analyzer = SentimentIntensityAnalyzer()\n",
    "    return analyzer.polarity_scores(text)"
   ]
  },
  {
   "cell_type": "markdown",
   "id": "8cb755b2-b54f-413f-b8cc-db524f9bc5ec",
   "metadata": {},
   "source": [
    "### Define **Sentiment** Function"
   ]
  },
  {
   "cell_type": "code",
   "execution_count": 27,
   "id": "e04677eb-58e7-4276-ba84-511f71b77f4d",
   "metadata": {},
   "outputs": [],
   "source": [
    "def textblob_sentiment(text):\n",
    "    blob = TextBlob(text)\n",
    "    return blob.sentiment.polarity  # Returns a score between -1 (negative) and 1 (positive)"
   ]
  },
  {
   "cell_type": "markdown",
   "id": "edd34f1f-bc12-4fc7-b2a8-7aed6ad5cf51",
   "metadata": {},
   "source": [
    "### Process and Compare Senitment"
   ]
  },
  {
   "cell_type": "code",
   "execution_count": 30,
   "id": "27f1d440-1fb0-4cf1-ada8-f2fe4ad04b60",
   "metadata": {},
   "outputs": [],
   "source": [
    "def analyze_sentiments(texts):\n",
    "    results = []\n",
    "    \n",
    "    for text in texts:\n",
    "        vader_scores = vader_sentiment(text)\n",
    "        textblob_score = textblob_sentiment(text)\n",
    "        \n",
    "        results.append({\n",
    "            \"Text\": text,\n",
    "            \"VADER_Compound\": vader_scores['compound'],\n",
    "            \"VADER_Positive\": vader_scores['pos'],\n",
    "            \"VADER_Neutral\": vader_scores['neu'],\n",
    "            \"VADER_Negative\": vader_scores['neg'],\n",
    "            \"TextBlob_Score\": textblob_score\n",
    "        })\n",
    "    \n",
    "    return results"
   ]
  },
  {
   "cell_type": "markdown",
   "id": "ef87c80e-fc8c-4f55-9fc8-2a5f79168e0f",
   "metadata": {},
   "source": [
    "### Test Text"
   ]
  },
  {
   "cell_type": "code",
   "execution_count": 34,
   "id": "c251eeae-a68a-4006-a818-c2af6ceeab9b",
   "metadata": {},
   "outputs": [
    {
     "name": "stdout",
     "output_type": "stream",
     "text": [
      "{'Text': 'AI is the future of technology! It will change everything.', 'VADER_Compound': 0.0, 'VADER_Positive': 0.0, 'VADER_Neutral': 1.0, 'VADER_Negative': 0.0, 'TextBlob_Score': 0.0}\n",
      "{'Text': \"I am scared of AI taking over jobs. It's a huge risk.\", 'VADER_Compound': -0.4019, 'VADER_Positive': 0.141, 'VADER_Neutral': 0.552, 'VADER_Negative': 0.307, 'TextBlob_Score': 0.39999999999999997}\n",
      "{'Text': 'AI is just a buzzword. Nothing innovative here.', 'VADER_Compound': -0.3412, 'VADER_Positive': 0.0, 'VADER_Neutral': 0.744, 'VADER_Negative': 0.256, 'TextBlob_Score': 0.5}\n",
      "{'Text': 'I love how AI helps in medicine and healthcare.', 'VADER_Compound': 0.7783, 'VADER_Positive': 0.493, 'VADER_Neutral': 0.507, 'VADER_Negative': 0.0, 'TextBlob_Score': 0.5}\n",
      "{'Text': 'AI is biased and can be dangerous if not regulated properly.', 'VADER_Compound': -0.6369, 'VADER_Positive': 0.0, 'VADER_Neutral': 0.634, 'VADER_Negative': 0.366, 'TextBlob_Score': -0.3}\n"
     ]
    }
   ],
   "source": [
    "sample_texts = [\n",
    "    \"AI is the future of technology! It will change everything.\",\n",
    "    \"I am scared of AI taking over jobs. It's a huge risk.\",\n",
    "    \"AI is just a buzzword. Nothing innovative here.\",\n",
    "    \"I love how AI helps in medicine and healthcare.\",\n",
    "    \"AI is biased and can be dangerous if not regulated properly.\",\n",
    "]\n",
    "\n",
    "results = analyze_sentiments(sample_texts)\n",
    "\n",
    "for res in results:\n",
    "    print(res)"
   ]
  },
  {
   "cell_type": "markdown",
   "id": "f862d671-1988-45d7-ad50-c540593515ed",
   "metadata": {},
   "source": [
    "### Kaggle Data Set\n",
    "Chat GPT Daily Tweets NLP esrabicakci"
   ]
  },
  {
   "cell_type": "code",
   "execution_count": 40,
   "id": "7c165119-ba45-44fa-b710-48c744676ea1",
   "metadata": {},
   "outputs": [
    {
     "name": "stdout",
     "output_type": "stream",
     "text": [
      "Warning: Looks like you're using an outdated `kagglehub` version, please consider updating (latest version: 0.3.6)\n",
      "Downloading from https://www.kaggle.com/api/v1/datasets/download/esrabicakci/chat-gpt-daily-tweets-nlp-esrabicakci?dataset_version_number=1...\n"
     ]
    },
    {
     "name": "stderr",
     "output_type": "stream",
     "text": [
      "100%|██████████████████████████████████████| 5.04M/5.04M [00:00<00:00, 16.5MB/s]"
     ]
    },
    {
     "name": "stdout",
     "output_type": "stream",
     "text": [
      "Extracting files...\n",
      "Path to dataset files: /Users/blakezurman/.cache/kagglehub/datasets/esrabicakci/chat-gpt-daily-tweets-nlp-esrabicakci/versions/1\n"
     ]
    },
    {
     "name": "stderr",
     "output_type": "stream",
     "text": [
      "\n"
     ]
    }
   ],
   "source": [
    "import kagglehub\n",
    "\n",
    "# Download latest version\n",
    "path = kagglehub.dataset_download(\"esrabicakci/chat-gpt-daily-tweets-nlp-esrabicakci\")\n",
    "\n",
    "print(\"Path to dataset files:\", path)"
   ]
  },
  {
   "cell_type": "code",
   "execution_count": 42,
   "id": "824970a6-064a-4eef-aadd-78896f9ca7b1",
   "metadata": {},
   "outputs": [
    {
     "name": "stdout",
     "output_type": "stream",
     "text": [
      "['ch.png', 'chatgpt_daily_tweets.csv']\n"
     ]
    }
   ],
   "source": [
    "import os\n",
    "\n",
    "print(os.listdir(path))  # List files in the dataset directory\n"
   ]
  },
  {
   "cell_type": "markdown",
   "id": "c0cdd052-520a-4dcc-934c-261541fa93ae",
   "metadata": {},
   "source": [
    "### Loading & Cleaning"
   ]
  },
  {
   "cell_type": "code",
   "execution_count": 55,
   "id": "ac463609-2de4-4e4e-83d6-ec8c5337feaa",
   "metadata": {},
   "outputs": [],
   "source": [
    "import pandas as pd\n",
    "import os\n",
    "\n",
    "file_path = os.path.join(path, \"chatgpt_daily_tweets.csv\")\n",
    "df = pd.read_csv(file_path)"
   ]
  },
  {
   "cell_type": "code",
   "execution_count": 46,
   "id": "36e9d083-ff41-4965-881e-4e70619ee443",
   "metadata": {},
   "outputs": [
    {
     "name": "stdout",
     "output_type": "stream",
     "text": [
      "<class 'pandas.core.frame.DataFrame'>\n",
      "RangeIndex: 22002 entries, 0 to 22001\n",
      "Data columns (total 20 columns):\n",
      " #   Column                Non-Null Count  Dtype  \n",
      "---  ------                --------------  -----  \n",
      " 0   tweet_id              22002 non-null  object \n",
      " 1   tweet_created         22002 non-null  object \n",
      " 2   tweet_extracted       22002 non-null  object \n",
      " 3   text                  22002 non-null  object \n",
      " 4   lang                  22002 non-null  object \n",
      " 5   user_id               22002 non-null  object \n",
      " 6   user_name             22000 non-null  object \n",
      " 7   user_username         22002 non-null  object \n",
      " 8   user_location         13048 non-null  object \n",
      " 9   user_description      18526 non-null  object \n",
      " 10  user_created          21998 non-null  object \n",
      " 11  user_followers_count  21996 non-null  float64\n",
      " 12  user_following_count  21996 non-null  float64\n",
      " 13  user_tweet_count      21996 non-null  float64\n",
      " 14  user_verified         21996 non-null  object \n",
      " 15  source                0 non-null      float64\n",
      " 16  retweet_count         21996 non-null  float64\n",
      " 17  like_count            21996 non-null  float64\n",
      " 18  reply_count           21996 non-null  float64\n",
      " 19  impression_count      21996 non-null  float64\n",
      "dtypes: float64(8), object(12)\n",
      "memory usage: 3.4+ MB\n",
      "None\n",
      "Index(['tweet_id', 'tweet_created', 'tweet_extracted', 'text', 'lang',\n",
      "       'user_id', 'user_name', 'user_username', 'user_location',\n",
      "       'user_description', 'user_created', 'user_followers_count',\n",
      "       'user_following_count', 'user_tweet_count', 'user_verified', 'source',\n",
      "       'retweet_count', 'like_count', 'reply_count', 'impression_count'],\n",
      "      dtype='object')\n"
     ]
    }
   ],
   "source": [
    "print(df.info())  # Check column names, data types, and missing values\n",
    "print(df.columns)  # List all column names"
   ]
  },
  {
   "cell_type": "code",
   "execution_count": 48,
   "id": "ea75e737-ca0b-4361-bf4e-e9662f885d1c",
   "metadata": {},
   "outputs": [
    {
     "name": "stdout",
     "output_type": "stream",
     "text": [
      "                                                text\n",
      "0  RT @jexep: เทคนิคฝึกภาษากับ ChatGPT ที่ผมลอง (...\n",
      "1  ChatGPTをもっと活かせるChrome拡張機能4選 https://t.co/hfacF...\n",
      "2  RT @DarrellLerner: ChatGPT Plugins are the fas...\n",
      "3  Get an intelligent chatbot for your website in...\n",
      "4  🔥Hey Guys, #ZenithSwap has launched at just $ ...\n"
     ]
    }
   ],
   "source": [
    "# Select only relevant columns\n",
    "df_clean = df[['text']]\n",
    "\n",
    "# Drop rows with missing tweet text\n",
    "df_clean = df_clean.dropna(subset=['text'])\n",
    "\n",
    "# Reset index after dropping rows\n",
    "df_clean.reset_index(drop=True, inplace=True)\n",
    "\n",
    "# Preview the cleaned data\n",
    "print(df_clean.head())"
   ]
  },
  {
   "cell_type": "code",
   "execution_count": 50,
   "id": "1a5404f8-82e4-47a0-ba7a-7fe3c28529cc",
   "metadata": {},
   "outputs": [
    {
     "name": "stdout",
     "output_type": "stream",
     "text": [
      "{'Text': 'RT @jexep: เทคนิคฝึกภาษากับ ChatGPT ที่ผมลอง (ผมลองฝึก อังกฤษ - ญี่ปุ่น, อังกฤษ - เยอรมัน) ใช้วิธีเดียวกัน ได้ผลเป็นที่น่าพอใจครับ เหลือแค่…', 'VADER_Compound': 0.0, 'VADER_Positive': 0.0, 'VADER_Neutral': 1.0, 'VADER_Negative': 0.0, 'TextBlob_Score': 0.0}\n",
      "{'Text': 'ChatGPTをもっと活かせるChrome拡張機能4選 https://t.co/hfacFe570t', 'VADER_Compound': 0.0, 'VADER_Positive': 0.0, 'VADER_Neutral': 1.0, 'VADER_Negative': 0.0, 'TextBlob_Score': 0.0}\n",
      "{'Text': 'RT @DarrellLerner: ChatGPT Plugins are the fastest way to get rich in 2023. \\n\\nI’ve created a step-by-step guide showing you how to earn $10…', 'VADER_Compound': 0.6808, 'VADER_Positive': 0.203, 'VADER_Neutral': 0.797, 'VADER_Negative': 0.0, 'TextBlob_Score': 0.375}\n",
      "{'Text': \"Get an intelligent chatbot for your website in minutes with Chatbase AI. Train ChatGPT on your data and let it answer any question your users have. Simply upload a document or link and add the chat widget - it's that easy!\\nMake Money using AI: https://t.co/yLHEqn4w9T https://t.co/ba54JvoRsM\", 'VADER_Compound': 0.7345, 'VADER_Positive': 0.121, 'VADER_Neutral': 0.879, 'VADER_Negative': 0.0, 'TextBlob_Score': 0.44722222222222224}\n",
      "{'Text': '🔥Hey Guys, #ZenithSwap has launched at just $ 55,000 USD Marketcap. The ChatGPT of DEX - Reimagining DeFi with AI-Powered Yield Farming. Now at 4X. Lot of up potential at such low marketcap.🔥😇 $ARB $ZSP #Arbitrum https://t.co/9VWYtYzAJD', 'VADER_Compound': 0.0, 'VADER_Positive': 0.096, 'VADER_Neutral': 0.809, 'VADER_Negative': 0.096, 'TextBlob_Score': 0.0}\n",
      "{'Text': 'RT @sinsonetwork: Now! Join #SINSO DataLand^ChatGPT #Airdrop!\\n📅3.23-4.6\\n📌Tasks\\n①Log in to&lt;https://t.co/Hlwqa7HG40&gt;\\n②Try SINSO #ChatGPT&amp; twe…', 'VADER_Compound': 0.4184, 'VADER_Positive': 0.157, 'VADER_Neutral': 0.843, 'VADER_Negative': 0.0, 'TextBlob_Score': 0.0}\n",
      "{'Text': 'RT @igz0: 著者がジョン・フォン・ノイマンの本を読んだことあるけど、脳がコンピューターのように「算術的」ではなく「統計的」に情報を処理するから、論理的な信頼性があるのだと1958年に見抜いていたの、すごい。\\n\\n現代人がノイマンにChatGPTの仕組みをレクチャーしてもコ…', 'VADER_Compound': 0.0, 'VADER_Positive': 0.0, 'VADER_Neutral': 1.0, 'VADER_Negative': 0.0, 'TextBlob_Score': 0.0}\n",
      "{'Text': '#japan #ai #openai #chatgpt #wordoftheday \\n教えて君 \\nOshietekun\\nsomeone who asks others for answers without first researching by himself', 'VADER_Compound': 0.0, 'VADER_Positive': 0.0, 'VADER_Neutral': 1.0, 'VADER_Negative': 0.0, 'TextBlob_Score': 0.25}\n",
      "{'Text': 'Hvorfor vil #ChatGPT spøke med Joe Biden men ikke med Xi Jinping? Opplevde det samme med #midjourney. https://t.co/hcJInBvYMG', 'VADER_Compound': 0.0, 'VADER_Positive': 0.0, 'VADER_Neutral': 1.0, 'VADER_Negative': 0.0, 'TextBlob_Score': 0.0}\n",
      "{'Text': 'The plagiarism detector will introduce its #AI detection tool tomorrow, hoping to protect academic integrity in a post-#ChatGPT world. \\n\\nThe\\xa0speedy launch and lack of an opt-out have #academics worried.\\n\\nAn important piece @liamhknox for @insidehighered \\n\\nhttps://t.co/pq7DB5r9An', 'VADER_Compound': 0.6486, 'VADER_Positive': 0.216, 'VADER_Neutral': 0.684, 'VADER_Negative': 0.099, 'TextBlob_Score': 0.2}\n"
     ]
    }
   ],
   "source": [
    "# Apply the function to the dataset's 'text' column\n",
    "sample_texts = df_clean['text'].tolist()[:10]  # Get a sample of 10 tweets for testing\n",
    "results = analyze_sentiments(sample_texts)\n",
    "\n",
    "# Print the results\n",
    "for res in results:\n",
    "    print(res)"
   ]
  },
  {
   "cell_type": "markdown",
   "id": "b26f5e80-3b30-4720-9f8f-c9ee62cbe917",
   "metadata": {},
   "source": [
    "### Report: Sentiment Analysis of Tweets Using VADER and TextBlob\n",
    "\n",
    "---\n",
    "\n",
    "#### **Introduction**\n",
    "\n",
    "In this report, I analyze a set of tweets related to ChatGPT, using VADER and TextBlob. These tools assess the sentiment of text data by evaluating the overall emotional tone (positive, negative, neutral).\n",
    "\n",
    "#### **Data**\n",
    "\n",
    "The dataset comprises tweets extracted from various social media accounts. The data includes the tweet text and associated metadata such as retweets, likes, and reply counts. For this analysis, I only used tweet text, which was preprocessed to remove missing values and any extra info.\n",
    "\n",
    "- **Number of tweets:** 10 sample tweets\n",
    "- **Key Column:** `Text` (Tweet text)\n",
    "  \n",
    "#### **Methods / Models**\n",
    "\n",
    "Sentiment analysis was performed using two established models:\n",
    "1. **VADER:** A lexicon-based method designed for social media text, which provides a compound score (ranging from -1 to 1) as well as positive, neutral, and negative percentages.\n",
    "2. **TextBlob:** A library that computes a sentiment polarity score (ranging from -1 to 1) and subjectivity score. A polarity score closer to 1 indicates positive sentiment, while closer to -1 indicates negative sentiment.\n",
    "\n",
    "#### **Experimental Design / Investigation Strategy**\n",
    "\n",
    "1. **Data Preprocessing:** Tweets with missing text were removed to ensure the analysis was based on complete records.\n",
    "2. **Sentiment Analysis:**\n",
    "   - Each tweet's sentiment was evaluated using both VADER and TextBlob.\n",
    "   - VADER returns four key metrics: Compound, Positive, Neutral, and Negative scores.\n",
    "   - TextBlob returns a single sentiment polarity score.\n",
    "\n",
    "#### **Results / Observations**\n",
    "\n",
    "The sentiment analysis results for the tweets are summarized below:\n",
    "\n",
    "| Tweet Text                                                       | VADER Compound | TextBlob Score |\n",
    "|------------------------------------------------------------------|----------------|----------------|\n",
    "| RT @jexep: เทคนิคฝึกภาษากับ ChatGPT...                          | 0.0            | 0.0            |\n",
    "| ChatGPTをもっと活かせるChrome拡張機能4選                          | 0.0            | 0.0            |\n",
    "| ChatGPT Plugins are the fastest way to get rich in 2023...       | 0.6808         | 0.375          |\n",
    "| 🔥Hey Guys, #ZenithSwap has launched...                         | 0.0            | 0.0            |\n",
    "| RT @sinsonetwork: Now! Join #SINSO DataLand^ChatGPT #Airdrop!    | 0.4184         | 0.0            |\n",
    "\n",
    "- **VADER Scores:** \n",
    "  - Most tweets returned neutral or slightly positive sentiment, with a few tweets indicating more positive emotions (e.g., \"ChatGPT Plugins are the fastest way to get rich in 2023\").\n",
    "  \n",
    "- **TextBlob Scores:** \n",
    "  - TextBlob's polarity scores were generally neutral or positive, with the exception of some tweets that had a very small positive sentiment.\n",
    "\n",
    "#### **Conclusions**\n",
    "\n",
    "Both sentiment analysis tools, VADER and TextBlob, provided valuable insights into the emotional tone of tweets related to ChatGPT. The results showed that the majority of the tweets were neutral, with some indicating a positive tone. VADER's compound score was helpful in identifying tweets with a stronger emotional tone, while TextBlob's score corroborated these findings."
   ]
  },
  {
   "cell_type": "code",
   "execution_count": null,
   "id": "7828441c-8793-4e0a-bf1e-4d00a36bca08",
   "metadata": {},
   "outputs": [],
   "source": []
  }
 ],
 "metadata": {
  "kernelspec": {
   "display_name": "Python 3 (ipykernel)",
   "language": "python",
   "name": "python3"
  },
  "language_info": {
   "codemirror_mode": {
    "name": "ipython",
    "version": 3
   },
   "file_extension": ".py",
   "mimetype": "text/x-python",
   "name": "python",
   "nbconvert_exporter": "python",
   "pygments_lexer": "ipython3",
   "version": "3.12.4"
  }
 },
 "nbformat": 4,
 "nbformat_minor": 5
}
